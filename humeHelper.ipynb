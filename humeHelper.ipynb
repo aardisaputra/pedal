{
 "cells": [
  {
   "cell_type": "code",
   "execution_count": 2,
   "metadata": {},
   "outputs": [],
   "source": [
    "import json\n",
    "\n",
    "# Open and read the JSON file\n",
    "with open('predictions.json', 'r') as file:\n",
    "    data = json.load(file)"
   ]
  },
  {
   "cell_type": "code",
   "execution_count": null,
   "metadata": {},
   "outputs": [],
   "source": []
  },
  {
   "cell_type": "code",
   "execution_count": 35,
   "metadata": {},
   "outputs": [
    {
     "name": "stdout",
     "output_type": "stream",
     "text": [
      "{'Admiration': 0.002392645925283432, 'Adoration': 0.0013157773969901933, 'Aesthetic Appreciation': 0.0007538677503665289, 'Amusement': 0.00536390311188168, 'Anger': 0.0051852841344144605, 'Anxiety': 0.0049337053464518655, 'Awe': 0.0009996235991517703, 'Awkwardness': 0.010331901411215464, 'Boredom': 0.01563173035780589, 'Calmness': 0.025890128480063543, 'Concentration': 0.003978648533423741, 'Confusion': 0.003326594829559326, 'Contemplation': 0.0020973988705211217, 'Contempt': 0.005412452750735813, 'Contentment': 0.0043697671757804025, 'Craving': 0.0008133562385208077, 'Desire': 0.0039939044250382316, 'Determination': 0.007480954130490621, 'Disappointment': 0.010778270661830902, 'Disgust': 0.003948035753435559, 'Distress': 0.0065869904226726955, 'Doubt': 0.0050215149919192, 'Ecstasy': 0.0006216563180916839, 'Embarrassment': 0.0030341423634025785, 'Empathic Pain': 0.002315269783139229, 'Entrancement': 0.0010676406737830904, 'Envy': 0.0033251699060201645, 'Excitement': 0.0022192676034238604, 'Fear': 0.0040858520401848685, 'Guilt': 0.0019155647605657578, 'Horror': 0.0017757368170552785, 'Interest': 0.004263522310389413, 'Joy': 0.0017419937584135267, 'Love': 0.0015739724040031433, 'Nostalgia': 0.0016999651367465656, 'Pain': 0.005395471635791991, 'Pride': 0.0017369933840301302, 'Realization': 0.003957195414437188, 'Relief': 0.008664170073138343, 'Romance': 0.0025149943927923837, 'Sadness': 0.006039329287078645, 'Satisfaction': 0.004255160689353943, 'Shame': 0.0022434784720341363, 'Surprise (negative)': 0.003761937220891317, 'Surprise (positive)': 0.0013953961638940705, 'Sympathy': 0.0026209025333325067, 'Tiredness': 0.011886681119600931, 'Triumph': 0.0012872327739993732}\n",
      "topThreeEmotions:  ['Calmness', 'Boredom', 'Tiredness']\n",
      "score:  0.0956828999850485\n",
      "48\n",
      "Why do I want a major in business? I want a major in business because I grew up witnessing firsthand theextent of the educational inequality in Indonesia? Which I think is the root cause for intergenerational poverty and perpetuate the huge wealth inequality present Indonesia and beyond, WhileI've done my own initiatives to improve access to education, I believe a business degree is necessaryfor me to sustainably and meaningfully improve education for people everywhere andbreak the cycle of poverty. Through a business degree, I can learn the skills and experiencenecessary to build and maintain my own education business from the ground up to havea long lasting impact addressing educational inequality. Okay.That's good.\n"
     ]
    }
   ],
   "source": [
    "predictions = data[0][\"results\"][\"predictions\"][0][\"models\"][\"prosody\"][\"grouped_predictions\"][0][\"predictions\"]\n",
    "transcript = \"\"\n",
    "emotionMap = None\n",
    "for prediction in predictions:\n",
    "    transcript += prediction[\"text\"]\n",
    "    if emotionMap == None:\n",
    "        emotionMap = {}\n",
    "        for emotion in prediction[\"emotions\"]:\n",
    "            emotionMap[emotion['name']] = emotion['score']\n",
    "    else:\n",
    "        for emotion in prediction[\"emotions\"]:\n",
    "            emotionMap[emotion['name']] =+ emotion['score']\n",
    "for key in emotionMap:\n",
    "    emotionMap[key] /= len(predictions)\n",
    "\n",
    "\n",
    "print(emotionMap)\n",
    "badEmotions = set([\"Anger\", \"Anxiety\", \"Awkwardness\", \"Boredom\", \"Confusion\", \"Disappointment\", \"Disgust\", \"Distress\", \"Embarrassment\", \"Fear\", \"Guilt\", \"Horror\", \"Pain\", \"Sadness\", \"Shame\", \"Tiredness\"])\n",
    "goodEmotions = set([\"Calmness\", \"Concentration\", \"Determination\", \"Excitement\", \"Interest\", \"Joy\", \"Sympathy\"])\n",
    "score = 0\n",
    "emotionList = []\n",
    "for key in emotionMap:\n",
    "    if key in badEmotions:\n",
    "        score -= emotionMap[key]\n",
    "    if key in goodEmotions:\n",
    "        score += emotionMap[key]*4\n",
    "    if key in goodEmotions or key in badEmotions:\n",
    "        emotionList.append((-emotionMap[key], key))\n",
    "emotionList.sort()\n",
    "topThreeEmotions = [tup[1] for tup in emotionList[:3]]\n",
    "print(\"topThreeEmotions: \", topThreeEmotions)\n",
    "print(\"score: \", score)\n",
    "print(len(emotionMap))\n",
    "print(transcript)"
   ]
  },
  {
   "cell_type": "code",
   "execution_count": null,
   "metadata": {},
   "outputs": [],
   "source": []
  }
 ],
 "metadata": {
  "kernelspec": {
   "display_name": "Python 3",
   "language": "python",
   "name": "python3"
  },
  "language_info": {
   "codemirror_mode": {
    "name": "ipython",
    "version": 3
   },
   "file_extension": ".py",
   "mimetype": "text/x-python",
   "name": "python",
   "nbconvert_exporter": "python",
   "pygments_lexer": "ipython3",
   "version": "3.9.6"
  }
 },
 "nbformat": 4,
 "nbformat_minor": 2
}
